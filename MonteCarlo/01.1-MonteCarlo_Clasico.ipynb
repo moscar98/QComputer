{
 "cells": [
  {
   "cell_type": "code",
   "execution_count": 1,
   "metadata": {},
   "outputs": [],
   "source": [
    "#pip install pandas"
   ]
  },
  {
   "cell_type": "code",
   "execution_count": 1,
   "metadata": {},
   "outputs": [],
   "source": [
    "from mpl_toolkits.mplot3d import Axes3D\n",
    "from sklearn.preprocessing import StandardScaler\n",
    "import matplotlib.pyplot as plt # plotting\n",
    "import numpy as np # linear algebra\n",
    "import os # accessing directory structure\n",
    "import pandas as pd # data processing, CSV file I/O (e.g. pd.read_csv)"
   ]
  },
  {
   "cell_type": "code",
   "execution_count": 2,
   "metadata": {},
   "outputs": [],
   "source": [
    "Directorio = os.getcwd()\n",
    "archivo = 'data.csv'\n",
    "\n",
    "df = pd.read_csv(os.path.join(Directorio,archivo),sep=' ')"
   ]
  },
  {
   "cell_type": "code",
   "execution_count": 4,
   "metadata": {},
   "outputs": [
    {
     "data": {
      "text/plain": [
       "Index(['NPV_of_Future_Cash_Flows(in_million$)', 'Cost_of_Project(in_million$)',\n",
       "       'Time_to_Maturity(in_years)', 'Discount_Rate',\n",
       "       'S.D.of_Cash_Flows(in_million$)', 'Real_Option_Value(in_million$)'],\n",
       "      dtype='object')"
      ]
     },
     "execution_count": 4,
     "metadata": {},
     "output_type": "execute_result"
    }
   ],
   "source": [
    "df.columns"
   ]
  },
  {
   "cell_type": "code",
   "execution_count": null,
   "metadata": {},
   "outputs": [],
   "source": [
    "df.rename(columns={'NPV_of_Future_Cash_Flows(in_million$)':'',\n",
    "                   'Cost_of_Project(in_million$)':'',\n",
    "                   'Time_to_Maturity(in_years)':'',\n",
    "                   'Discount_Rate':'',\n",
    "                   'S.D.of_Cash_Flows(in_million$)':'',\n",
    "                   'Real_Option_Value(in_million$)':''\n",
    "                   })"
   ]
  },
  {
   "cell_type": "code",
   "execution_count": null,
   "metadata": {},
   "outputs": [],
   "source": []
  },
  {
   "cell_type": "code",
   "execution_count": 5,
   "metadata": {},
   "outputs": [
    {
     "data": {
      "text/html": [
       "<div>\n",
       "<style scoped>\n",
       "    .dataframe tbody tr th:only-of-type {\n",
       "        vertical-align: middle;\n",
       "    }\n",
       "\n",
       "    .dataframe tbody tr th {\n",
       "        vertical-align: top;\n",
       "    }\n",
       "\n",
       "    .dataframe thead th {\n",
       "        text-align: right;\n",
       "    }\n",
       "</style>\n",
       "<table border=\"1\" class=\"dataframe\">\n",
       "  <thead>\n",
       "    <tr style=\"text-align: right;\">\n",
       "      <th></th>\n",
       "      <th>NPV_of_Future_Cash_Flows(in_million$)</th>\n",
       "      <th>Cost_of_Project(in_million$)</th>\n",
       "      <th>Time_to_Maturity(in_years)</th>\n",
       "      <th>Discount_Rate</th>\n",
       "      <th>S.D.of_Cash_Flows(in_million$)</th>\n",
       "      <th>Real_Option_Value(in_million$)</th>\n",
       "    </tr>\n",
       "  </thead>\n",
       "  <tbody>\n",
       "    <tr>\n",
       "      <th>count</th>\n",
       "      <td>1000000.000000</td>\n",
       "      <td>1000000.000000</td>\n",
       "      <td>1000000.000000</td>\n",
       "      <td>1000000.000000</td>\n",
       "      <td>1000000.000000</td>\n",
       "      <td>1000000.000000</td>\n",
       "    </tr>\n",
       "    <tr>\n",
       "      <th>mean</th>\n",
       "      <td>49.982789</td>\n",
       "      <td>49.742838</td>\n",
       "      <td>1.544819</td>\n",
       "      <td>0.050006</td>\n",
       "      <td>0.250137</td>\n",
       "      <td>8.634098</td>\n",
       "    </tr>\n",
       "    <tr>\n",
       "      <th>std</th>\n",
       "      <td>28.854541</td>\n",
       "      <td>33.189098</td>\n",
       "      <td>0.837749</td>\n",
       "      <td>0.028832</td>\n",
       "      <td>0.141286</td>\n",
       "      <td>10.464668</td>\n",
       "    </tr>\n",
       "    <tr>\n",
       "      <th>min</th>\n",
       "      <td>0.000119</td>\n",
       "      <td>0.000116</td>\n",
       "      <td>0.100000</td>\n",
       "      <td>0.000100</td>\n",
       "      <td>0.010000</td>\n",
       "      <td>0.000000</td>\n",
       "    </tr>\n",
       "    <tr>\n",
       "      <th>25%</th>\n",
       "      <td>24.996517</td>\n",
       "      <td>22.617345</td>\n",
       "      <td>0.820000</td>\n",
       "      <td>0.025100</td>\n",
       "      <td>0.130000</td>\n",
       "      <td>0.600217</td>\n",
       "    </tr>\n",
       "    <tr>\n",
       "      <th>50%</th>\n",
       "      <td>49.983445</td>\n",
       "      <td>45.239832</td>\n",
       "      <td>1.550000</td>\n",
       "      <td>0.050000</td>\n",
       "      <td>0.250000</td>\n",
       "      <td>4.370724</td>\n",
       "    </tr>\n",
       "    <tr>\n",
       "      <th>75%</th>\n",
       "      <td>74.945058</td>\n",
       "      <td>71.878028</td>\n",
       "      <td>2.270000</td>\n",
       "      <td>0.075000</td>\n",
       "      <td>0.370000</td>\n",
       "      <td>13.168526</td>\n",
       "    </tr>\n",
       "    <tr>\n",
       "      <th>max</th>\n",
       "      <td>99.999853</td>\n",
       "      <td>148.991667</td>\n",
       "      <td>2.990000</td>\n",
       "      <td>0.099900</td>\n",
       "      <td>0.490000</td>\n",
       "      <td>62.882074</td>\n",
       "    </tr>\n",
       "  </tbody>\n",
       "</table>\n",
       "</div>"
      ],
      "text/plain": [
       "       NPV_of_Future_Cash_Flows(in_million$)  Cost_of_Project(in_million$)  \\\n",
       "count                         1000000.000000                1000000.000000   \n",
       "mean                               49.982789                     49.742838   \n",
       "std                                28.854541                     33.189098   \n",
       "min                                 0.000119                      0.000116   \n",
       "25%                                24.996517                     22.617345   \n",
       "50%                                49.983445                     45.239832   \n",
       "75%                                74.945058                     71.878028   \n",
       "max                                99.999853                    148.991667   \n",
       "\n",
       "       Time_to_Maturity(in_years)   Discount_Rate  \\\n",
       "count              1000000.000000  1000000.000000   \n",
       "mean                     1.544819        0.050006   \n",
       "std                      0.837749        0.028832   \n",
       "min                      0.100000        0.000100   \n",
       "25%                      0.820000        0.025100   \n",
       "50%                      1.550000        0.050000   \n",
       "75%                      2.270000        0.075000   \n",
       "max                      2.990000        0.099900   \n",
       "\n",
       "       S.D.of_Cash_Flows(in_million$)  Real_Option_Value(in_million$)  \n",
       "count                  1000000.000000                  1000000.000000  \n",
       "mean                         0.250137                        8.634098  \n",
       "std                          0.141286                       10.464668  \n",
       "min                          0.010000                        0.000000  \n",
       "25%                          0.130000                        0.600217  \n",
       "50%                          0.250000                        4.370724  \n",
       "75%                          0.370000                       13.168526  \n",
       "max                          0.490000                       62.882074  "
      ]
     },
     "execution_count": 5,
     "metadata": {},
     "output_type": "execute_result"
    }
   ],
   "source": [
    "df.describe()"
   ]
  }
 ],
 "metadata": {
  "kernelspec": {
   "display_name": "Python 3",
   "language": "python",
   "name": "python3"
  },
  "language_info": {
   "codemirror_mode": {
    "name": "ipython",
    "version": 3
   },
   "file_extension": ".py",
   "mimetype": "text/x-python",
   "name": "python",
   "nbconvert_exporter": "python",
   "pygments_lexer": "ipython3",
   "version": "3.9.19"
  }
 },
 "nbformat": 4,
 "nbformat_minor": 2
}
